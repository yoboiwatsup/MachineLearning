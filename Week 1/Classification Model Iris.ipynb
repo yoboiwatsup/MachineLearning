{
  "cells": [
    {
      "cell_type": "markdown",
      "metadata": {
        "id": "view-in-github",
        "colab_type": "text"
      },
      "source": [
        "<a href=\"https://colab.research.google.com/github/yoboiwatsup/MachineLearning/blob/main/Week%201/Classification%20Model.ipynb\" target=\"_parent\"><img src=\"https://colab.research.google.com/assets/colab-badge.svg\" alt=\"Open In Colab\"/></a>"
      ]
    },
    {
      "cell_type": "markdown",
      "source": [
        "Memasukan Dataset Iris kedalam Colab"
      ],
      "metadata": {
        "id": "55imywLDTqZ4"
      }
    },
    {
      "cell_type": "code",
      "source": [
        "import pandas as pd\n",
        "\n",
        "# Load the dataset\n",
        "file_path = 'Iris.csv'\n",
        "data = pd.read_csv(file_path)\n",
        "\n",
        "# Display the first few rows to understand the structure of the dataset\n",
        "data.head()\n"
      ],
      "metadata": {
        "id": "AULggk58RvhM"
      },
      "execution_count": null,
      "outputs": []
    },
    {
      "cell_type": "markdown",
      "source": [
        "Dataset telah berhasil dibagi menjadi training set dengan 120 sampel dan test set dengan 30 sampel."
      ],
      "metadata": {
        "id": "dGrYQtwUURqX"
      }
    },
    {
      "cell_type": "code",
      "source": [
        "from sklearn.model_selection import train_test_split\n",
        "from sklearn.preprocessing import LabelEncoder\n",
        "\n",
        "# Pisahkan fitur dan target\n",
        "X = data[['SepalLengthCm', 'SepalWidthCm', 'PetalLengthCm', 'PetalWidthCm']]\n",
        "y = data['Species']\n",
        "\n",
        "# Encode label (convert species to numeric values)\n",
        "le = LabelEncoder()\n",
        "y_encoded = le.fit_transform(y)\n",
        "\n",
        "# Bagi dataset menjadi training dan test set\n",
        "X_train, X_test, y_train, y_test = train_test_split(X, y_encoded, test_size=0.2, random_state=42)\n",
        "\n",
        "X_train.shape, X_test.shape\n"
      ],
      "metadata": {
        "colab": {
          "base_uri": "https://localhost:8080/"
        },
        "id": "DovXcU5WSJh1",
        "outputId": "0dd7a8a8-57bd-4657-84f8-248dad5c3e27"
      },
      "execution_count": 7,
      "outputs": [
        {
          "output_type": "execute_result",
          "data": {
            "text/plain": [
              "((120, 4), (30, 4))"
            ]
          },
          "metadata": {},
          "execution_count": 7
        }
      ]
    },
    {
      "cell_type": "markdown",
      "source": [
        "Model Logistic Regression mencapai akurasi sebesar 100% pada test set, yang berarti model ini dapat mengklasifikasikan semua sampel dengan benar.\n",
        "\n",
        "Precision, Recall, dan F1-Score untuk setiap spesies (Iris-setosa, Iris-versicolor, dan Iris-virginica) semuanya bernilai 1.00, yang menunjukkan performa model yang sangat baik."
      ],
      "metadata": {
        "id": "kzfrAwHTU_1c"
      }
    },
    {
      "cell_type": "code",
      "source": [
        "from sklearn.linear_model import LogisticRegression\n",
        "from sklearn.metrics import accuracy_score, classification_report\n",
        "\n",
        "# Buat dan latih model Logistic Regression\n",
        "log_reg_model = LogisticRegression(max_iter=200)\n",
        "log_reg_model.fit(X_train, y_train)\n",
        "\n",
        "# Lakukan prediksi pada test set\n",
        "y_pred_log_reg = log_reg_model.predict(X_test)\n",
        "\n",
        "# Evaluasi model Logistic Regression\n",
        "log_reg_accuracy = accuracy_score(y_test, y_pred_log_reg)\n",
        "log_reg_classification_report = classification_report(y_test, y_pred_log_reg, target_names=le.classes_)\n",
        "\n",
        "log_reg_accuracy, log_reg_classification_report\n"
      ],
      "metadata": {
        "id": "cWb4wdySTYGd"
      },
      "execution_count": null,
      "outputs": []
    },
    {
      "cell_type": "markdown",
      "source": [
        "Model K-Nearest Neighbors (K-NN) juga mencapai akurasi sebesar 100% pada test set, dengan precision, recall, dan F1-score untuk setiap spesies mencapai 1.00, sama seperti pada model Logistic Regression."
      ],
      "metadata": {
        "id": "HcBrfDpGVEbV"
      }
    },
    {
      "cell_type": "code",
      "source": [
        "from sklearn.neighbors import KNeighborsClassifier\n",
        "\n",
        "# Buat dan latih model K-NN dengan k=3\n",
        "knn_model = KNeighborsClassifier(n_neighbors=3)\n",
        "knn_model.fit(X_train, y_train)\n",
        "\n",
        "# Lakukan prediksi pada test set\n",
        "y_pred_knn = knn_model.predict(X_test)\n",
        "\n",
        "# Evaluasi model K-NN\n",
        "knn_accuracy = accuracy_score(y_test, y_pred_knn)\n",
        "knn_classification_report = classification_report(y_test, y_pred_knn, target_names=le.classes_)\n",
        "\n",
        "knn_accuracy, knn_classification_report\n"
      ],
      "metadata": {
        "id": "q-G1WW9FTkBM"
      },
      "execution_count": null,
      "outputs": []
    }
  ],
  "metadata": {
    "colab": {
      "name": "Welcome To Colab",
      "toc_visible": true,
      "provenance": [],
      "include_colab_link": true
    },
    "kernelspec": {
      "display_name": "Python 3",
      "name": "python3"
    }
  },
  "nbformat": 4,
  "nbformat_minor": 0
}
